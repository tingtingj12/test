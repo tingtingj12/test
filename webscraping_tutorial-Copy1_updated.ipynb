<!DOCTYPE html>
<html>
  <head>
    <meta http-equiv="Content-Style-Type" content="text/css" /> 
    <title>webscraping_tutorial-Copy1_updated.ipynb</title>
    <link href="/library/skin/tool_base.css" type="text/css" rel="stylesheet" media="all" />
    <link href="/library/skin/morpheus-default/tool.css" type="text/css" rel="stylesheet" media="all" />
    <script type="text/javascript" src="/library/js/headscripts.js"></script>
<script type="text/javascript" src="/media-gallery-tool/js/kaltura-upgrade.js"></script>    <style>body { padding: 5px !important; }</style>
  </head>
  <body>
{
 "cells": [
  {
   "cell_type": "markdown",
   "metadata": {},
   "source": [
    "# Web Scraping Tutorial\n",
    "## Tutorial Source: https://www.dataquest.io/blog/web-scraping-beautifulsoup/\n",
    "### Edited by Shahab Raji\n",
    "### Updated by Hanxiong Chen"
   ]
  },
  {
   "cell_type": "markdown",
   "metadata": {},
   "source": [
    "# Fetch data from web page"
   ]
  },
  {
   "cell_type": "code",
   "execution_count": 18,
   "metadata": {},
   "outputs": [
    {
     "data": {
      "text/plain": [
       "'<!DOCTYPE HTML PUBLIC \"-//W3C//DTD HTML 4.0 Transitional//EN\">\\n<HTML>\\n<HEAD>\\n<title>Go ahead and ScanMe!</title>\\n\\n<link REL=\"SHORTCUT ICON\" HREF=\"/shared/images/tiny-eyeicon.png\" TYPE=\"image/png\">\\n<META NAME=\"ROBOTS\" CONTENT=\"NOARCHIVE\">\\n<link rel=\"stylesheet\" href=\"/shared/css/insecdb.css\" type=\"text/css\">\\n<!--Google Analytics Code-->\\n<script type=\"text/javascript\">\\n  (function(i,s,o,g,r,a,m){i[\\'GoogleAnalyticsObject\\']=r;i[r]=i[r]||function(){\\n  (i[r].q=i[r].q||[]).push(arguments)},i[r].l=1*new Date();a=s.createElement(o),\\n  m=s.getElementsByTagName(o)[0];a.async=1;a.src=g;m.parentNode.insertBefore(a,m)\\n  })(window,document,\\'script\\',\\'//www.google-analytics.com/analytics.js\\',\\'ga\\');\\n\\n  ga(\\'create\\', \\'UA-11009417-1\\', \\'auto\\');\\n  ga(\\'send\\', \\'pageview\\');\\n\\n</script>\\n<!--END Google Analytics Code-'"
      ]
     },
     "execution_count": 18,
     "metadata": {},
     "output_type": "execute_result"
    }
   ],
   "source": [
    "'''\n",
    "You can use get() function from requests package\n",
    "to get data or use urlopen form urllib package to \n",
    "do the same thing.\n",
    "'''\n",
    "from requests import get\n",
    "from urllib import urlopen\n",
    "page1 = get(\"http://scanme.nmap.org\").text[:800]\n",
    "page2 = urlopen(\"http://scanme.nmap.org\").read()[:800]\n",
    "\n",
    "page1\n",
    "page2"
   ]
  },
  {
   "cell_type": "markdown",
   "metadata": {},
   "source": [
    "# Using get() to fetch webpage"
   ]
  },
  {
   "cell_type": "code",
   "execution_count": 9,
   "metadata": {},
   "outputs": [
    {
     "name": "stdout",
     "output_type": "stream",
     "text": [
      "\n",
      "\n",
      "\n",
      "\n",
      "<!DOCTYPE html>\n",
      "<html\n",
      "xmlns:og=\"http://ogp.me/ns#\"\n",
      "xmlns:fb=\"http://www.facebook.com/2008/fbml\">\n",
      "    <head>\n",
      "        <meta charset=\"utf-8\">\n",
      "        <meta http-equiv=\"X-UA-Compatible\" content=\"IE=edge\">\n",
      "\n",
      "    <meta name=\"apple-itunes-app\" content=\"app-id=342792525, app-argument=imdb:///?src=mdot\">\n",
      "            <script type=\"text/javascript\">var ue_t0=window.ue_t0||+new Date();</script>\n",
      "            <script type=\"text/javascript\">\n",
      "                var ue_mid = \"A1EVAM02EL8SFB\"; \n",
      "                var ue_sn = \"www.imdb.com\";  \n",
      "                var ue_furl = \"fls-na.amazon.com\";\n",
      "                var ue_sid = \"000-0000000-0000000\";\n",
      "                var ue_id = \"1X01H5PFB820TMV6PFZA\";\n",
      "                (function(e){var c=e;var a=c.ue||{};a.main_scope=\"mainscopecsm\";a.q=[];a.t0=c.ue_t0||+new Date();a.d=g\n"
     ]
    }
   ],
   "source": [
    "from requests import get\n",
    "\n",
    "url = 'http://www.imdb.com/search/title?release_date=2017-01-01,2018-01-01&sort=num_votes,desc'\n",
    "\n",
    "response = get(url)\n",
    "\n",
    "print(response.text[:800])\n"
   ]
  },
  {
   "cell_type": "markdown",
   "metadata": {},
   "source": [
    "# Using BeautifulSoup"
   ]
  },
  {
   "cell_type": "code",
   "execution_count": 20,
   "metadata": {},
   "outputs": [
    {
     "data": {
      "text/plain": [
       "bs4.BeautifulSoup"
      ]
     },
     "execution_count": 20,
     "metadata": {},
     "output_type": "execute_result"
    }
   ],
   "source": [
    "'''\n",
    "If you do not have BeautifulSoup, you can install\n",
    "it by doing 'pip install BeautifulSoup4'\n",
    "'''\n",
    "from bs4 import BeautifulSoup\n",
    "from requests import get\n",
    "\n",
    "url = 'http://www.imdb.com/search/title?release_date=2017-01-01,2018-01-01&sort=num_votes,desc'\n",
    "\n",
    "response = get(url)\n",
    "\n",
    "'''\n",
    "Here we use lxml's HTML parser. For other parsers \n",
    "and details, please visit:\n",
    "https://www.crummy.com/software/BeautifulSoup/bs4/doc/#installing-a-parser\n",
    "'''\n",
    "html_soup = BeautifulSoup(response.text, 'lxml')\n",
    "\n",
    "type(html_soup)\n"
   ]
  },
  {
   "cell_type": "markdown",
   "metadata": {},
   "source": [
    "# The find() and find_all() methods"
   ]
  },
  {
   "cell_type": "code",
   "execution_count": 21,
   "metadata": {},
   "outputs": [
    {
     "name": "stdout",
     "output_type": "stream",
     "text": [
      "<class 'bs4.element.ResultSet'>\n",
      "50\n"
     ]
    }
   ],
   "source": [
    "movie_containers = html_soup.find_all('div', class_ = 'lister-item mode-advanced')\n",
    "\n",
    "print(type(movie_containers))\n",
    "print(len(movie_containers))"
   ]
  },
  {
   "cell_type": "code",
   "execution_count": 23,
   "metadata": {},
   "outputs": [
    {
     "data": {
      "text/html": [
       "<img src=\"https://www.dataquest.io/blog/content/images/search.jpg\"/>"
      ],
      "text/plain": [
       "<IPython.core.display.Image object>"
      ]
     },
     "execution_count": 23,
     "metadata": {},
     "output_type": "execute_result"
    }
   ],
   "source": [
    "from IPython.display import Image\n",
    "from IPython.core.display import HTML\n",
    "Image(url = \"https://www.dataquest.io/blog/content/images/search.jpg\")"
   ]
  },
  {
   "cell_type": "markdown",
   "metadata": {},
   "source": [
    "# Extracting the name of the movie"
   ]
  },
  {
   "cell_type": "code",
   "execution_count": 24,
   "metadata": {
    "scrolled": true
   },
   "outputs": [
    {
     "data": {
      "text/plain": [
       "<div class=\"lister-item mode-advanced\">\\n<div class=\"lister-top-right\">\\n<div class=\"ribbonize\" data-caller=\"filmosearch\" data-tconst=\"tt3315342\"></div>\\n</div>\\n<div class=\"lister-item-image float-left\">\\n<a href=\"/title/tt3315342/?ref_=adv_li_i\"> <img alt=\"Logan\" class=\"loadlate\" data-tconst=\"tt3315342\" height=\"98\" loadlate=\"https://images-na.ssl-images-amazon.com/images/M/MV5BMjQwODQwNTg4OV5BMl5BanBnXkFtZTgwMTk4MTAzMjI@._V1_UX67_CR0,0,67,98_AL_.jpg\" src=\"https://images-na.ssl-images-amazon.com/images/G/01/imdb/images/nopicture/large/film-184890147._CB522736516_.png\" width=\"67\"/>\\n</a> </div>\\n<div class=\"lister-item-content\">\\n<h3 class=\"lister-item-header\">\\n<span class=\"lister-item-index unbold text-primary\">1.</span>\\n<a href=\"/title/tt3315342/?ref_=adv_li_tt\">Logan</a>\\n<span class=\"lister-item-year text-muted unbold\">(2017)</span>\\n</h3>\\n<p class=\"text-muted \">\\n<span class=\"certificate\">R</span>\\n<span class=\"ghost\">|</span>\\n<span class=\"runtime\">137 min</span>\\n<span class=\"ghost\">|</span>\\n<span class=\"genre\">\\nAction, Drama, Sci-Fi            </span>\\n</p>\\n<div class=\"ratings-bar\">\\n<div class=\"inline-block ratings-imdb-rating\" data-value=\"8.1\" name=\"ir\">\\n<span class=\"global-sprite rating-star imdb-rating\"></span>\\n<strong>8.1</strong>\\n</div>\\n<div class=\"inline-block ratings-user-rating\">\\n<span class=\"userRatingValue\" data-tconst=\"tt3315342\" id=\"urv_tt3315342\">\\n<span class=\"global-sprite rating-star no-rating\"></span>\\n<span class=\"rate\" data-no-rating=\"Rate this\" data-value=\"0\" name=\"ur\">Rate this</span>\\n</span>\\n<div class=\"starBarWidget\" id=\"sb_tt3315342\">\\n<div class=\"rating rating-list\" data-auth=\"\" data-ga-identifier=\"\" data-starbar-class=\"rating-list\" data-user=\"\" id=\"tt3315342|imdb|8.1|8.1|||search|title\" itemprop=\"aggregateRating\" itemscope=\"\" itemtype=\"http://schema.org/AggregateRating\" title=\"Users rated this 8.1/10 (439,392 votes) - click stars to rate\">\\n<meta content=\"8.1\" itemprop=\"ratingValue\"/>\\n<meta content=\"10\" itemprop=\"bestRating\"/>\\n<meta content=\"439392\" itemprop=\"ratingCount\"/>\\n<span class=\"rating-bg\">\\xa0</span>\\n<span class=\"rating-imdb \" style=\"width: 113.4px\">\\xa0</span>\\n<span class=\"rating-stars\">\\n<a href=\"/register/login?why=vote&amp;ref_=tt_ov_rt\" rel=\"nofollow\" title=\"Register or login to rate this title\"><span>1</span></a>\\n<a href=\"/register/login?why=vote&amp;ref_=tt_ov_rt\" rel=\"nofollow\" title=\"Register or login to rate this title\"><span>2</span></a>\\n<a href=\"/register/login?why=vote&amp;ref_=tt_ov_rt\" rel=\"nofollow\" title=\"Register or login to rate this title\"><span>3</span></a>\\n<a href=\"/register/login?why=vote&amp;ref_=tt_ov_rt\" rel=\"nofollow\" title=\"Register or login to rate this title\"><span>4</span></a>\\n<a href=\"/register/login?why=vote&amp;ref_=tt_ov_rt\" rel=\"nofollow\" title=\"Register or login to rate this title\"><span>5</span></a>\\n<a href=\"/register/login?why=vote&amp;ref_=tt_ov_rt\" rel=\"nofollow\" title=\"Register or login to rate this title\"><span>6</span></a>\\n<a href=\"/register/login?why=vote&amp;ref_=tt_ov_rt\" rel=\"nofollow\" title=\"Register or login to rate this title\"><span>7</span></a>\\n<a href=\"/register/login?why=vote&amp;ref_=tt_ov_rt\" rel=\"nofollow\" title=\"Register or login to rate this title\"><span>8</span></a>\\n<a href=\"/register/login?why=vote&amp;ref_=tt_ov_rt\" rel=\"nofollow\" title=\"Register or login to rate this title\"><span>9</span></a>\\n<a href=\"/register/login?why=vote&amp;ref_=tt_ov_rt\" rel=\"nofollow\" title=\"Register or login to rate this title\"><span>10</span></a>\\n</span>\\n<span class=\"rating-rating \"><span class=\"value\">8.1</span><span class=\"grey\">/</span><span class=\"grey\">10</span></span>\\n<span class=\"rating-cancel \"><a href=\"/title/tt3315342/vote?v=X;k=\" rel=\"nofollow\" title=\"Delete\"><span>X</span></a></span>\\n\\xa0</div>\\n</div>\\n</div>\\n<div class=\"inline-block ratings-metascore\">\\n<span class=\"metascore favorable\">77        </span>\\n        Metascore\\n            </div>\\n</div>\\n<p class=\"text-muted\">\\nIn the near future, a weary Logan cares for an ailing Professor X, somewhere on the Mexican border. However, Logan's attempts to hide from the world, and his legacy, are upended when a young mutant arrives, pursued by dark forces.</p>\\n<p class=\"\">\\n    Director:\\n<a href=\"/name/nm0003506/?ref_=adv_li_dr_0\">James Mangold</a>\\n<span class=\"ghost\">|</span> \\n    Stars:\\n<a href=\"/name/nm0413168/?ref_=adv_li_st_0\">Hugh Jackman</a>, \\n<a href=\"/name/nm0001772/?ref_=adv_li_st_1\">Patrick Stewart</a>, \\n<a href=\"/name/nm6748436/?ref_=adv_li_st_2\">Dafne Keen</a>, \\n<a href=\"/name/nm2933542/?ref_=adv_li_st_3\">Boyd Holbrook</a>\\n</p>\\n<p class=\"sort-num_votes-visible\">\\n<span class=\"text-muted\">Votes:</span>\\n<span data-value=\"439392\" name=\"nv\">439,392</span>\\n<span class=\"ghost\">|</span> <span class=\"text-muted\">Gross:</span>\\n<span data-value=\"226,277,068\" name=\"nv\">$226.28M</span>\\n</p>\\n</div>\\n</div>"
      ]
     },
     "execution_count": 24,
     "metadata": {},
     "output_type": "execute_result"
    }
   ],
   "source": [
    "first = movie_containers[0]\n",
    "\n",
    "first"
   ]
  },
  {
   "cell_type": "code",
   "execution_count": 28,
   "metadata": {},
   "outputs": [
    {
     "data": {
      "text/html": [
       "<img src=\"https://www.dataquest.io/blog/content/images/movie_name.jpg\"/>"
      ],
      "text/plain": [
       "<IPython.core.display.Image object>"
      ]
     },
     "execution_count": 28,
     "metadata": {},
     "output_type": "execute_result"
    }
   ],
   "source": [
    "Image(url = \"https://www.dataquest.io/blog/content/images/movie_name.jpg\")"
   ]
  },
  {
   "cell_type": "markdown",
   "metadata": {},
   "source": [
    "### Using the tag name only gives us the _first_ tag by that name"
   ]
  },
  {
   "cell_type": "code",
   "execution_count": 25,
   "metadata": {},
   "outputs": [
    {
     "data": {
      "text/plain": [
       "<div class=\"lister-top-right\">\\n<div class=\"ribbonize\" data-caller=\"filmosearch\" data-tconst=\"tt3315342\"></div>\\n</div>"
      ]
     },
     "execution_count": 25,
     "metadata": {},
     "output_type": "execute_result"
    }
   ],
   "source": [
    "first.div"
   ]
  },
  {
   "cell_type": "code",
   "execution_count": 26,
   "metadata": {},
   "outputs": [
    {
     "data": {
      "text/plain": [
       "<a href=\"/title/tt3315342/?ref_=adv_li_i\"> <img alt=\"Logan\" class=\"loadlate\" data-tconst=\"tt3315342\" height=\"98\" loadlate=\"https://images-na.ssl-images-amazon.com/images/M/MV5BMjQwODQwNTg4OV5BMl5BanBnXkFtZTgwMTk4MTAzMjI@._V1_UX67_CR0,0,67,98_AL_.jpg\" src=\"https://images-na.ssl-images-amazon.com/images/G/01/imdb/images/nopicture/large/film-184890147._CB522736516_.png\" width=\"67\"/>\\n</a>"
      ]
     },
     "execution_count": 26,
     "metadata": {},
     "output_type": "execute_result"
    }
   ],
   "source": [
    "first.a"
   ]
  },
  {
   "cell_type": "code",
   "execution_count": 27,
   "metadata": {},
   "outputs": [
    {
     "data": {
      "text/plain": [
       "<h3 class=\"lister-item-header\">\\n<span class=\"lister-item-index unbold text-primary\">1.</span>\\n<a href=\"/title/tt3315342/?ref_=adv_li_tt\">Logan</a>\\n<span class=\"lister-item-year text-muted unbold\">(2017)</span>\\n</h3>"
      ]
     },
     "execution_count": 27,
     "metadata": {},
     "output_type": "execute_result"
    }
   ],
   "source": [
    "first.h3"
   ]
  },
  {
   "cell_type": "code",
   "execution_count": 29,
   "metadata": {},
   "outputs": [
    {
     "data": {
      "text/plain": [
       "<a href=\"/title/tt3315342/?ref_=adv_li_tt\">Logan</a>"
      ]
     },
     "execution_count": 29,
     "metadata": {},
     "output_type": "execute_result"
    }
   ],
   "source": [
    "first.h3.a"
   ]
  },
  {
   "cell_type": "code",
   "execution_count": 30,
   "metadata": {},
   "outputs": [
    {
     "data": {
      "text/plain": [
       "u'Logan'"
      ]
     },
     "execution_count": 30,
     "metadata": {},
     "output_type": "execute_result"
    }
   ],
   "source": [
    "first.h3.a.text"
   ]
  },
  {
   "cell_type": "code",
   "execution_count": 32,
   "metadata": {
    "collapsed": true
   },
   "outputs": [],
   "source": [
    "second = movie_containers[1]"
   ]
  },
  {
   "cell_type": "code",
   "execution_count": 33,
   "metadata": {},
   "outputs": [
    {
     "data": {
      "text/plain": [
       "u'Wonder Woman'"
      ]
     },
     "execution_count": 33,
     "metadata": {},
     "output_type": "execute_result"
    }
   ],
   "source": [
    "second.h3.a.text"
   ]
  },
  {
   "cell_type": "code",
   "execution_count": 34,
   "metadata": {},
   "outputs": [
    {
     "data": {
      "text/plain": [
       "u'Guardians of the Galaxy Vol. 2'"
      ]
     },
     "execution_count": 34,
     "metadata": {},
     "output_type": "execute_result"
    }
   ],
   "source": [
    "third = movie_containers[2]\n",
    "third.h3.a.text"
   ]
  },
  {
   "cell_type": "markdown",
   "metadata": {},
   "source": [
    "# Movie release date"
   ]
  },
  {
   "cell_type": "code",
   "execution_count": 35,
   "metadata": {},
   "outputs": [
    {
     "data": {
      "text/plain": [
       "<span class=\"lister-item-index unbold text-primary\">1.</span>"
      ]
     },
     "execution_count": 35,
     "metadata": {},
     "output_type": "execute_result"
    }
   ],
   "source": [
    "first.h3.span"
   ]
  },
  {
   "cell_type": "code",
   "execution_count": 36,
   "metadata": {
    "collapsed": true
   },
   "outputs": [],
   "source": [
    "y = first.h3.find('span', class_='lister-item-year text-muted unbold').text"
   ]
  },
  {
   "cell_type": "code",
   "execution_count": 37,
   "metadata": {},
   "outputs": [
    {
     "data": {
      "text/plain": [
       "u'2017'"
      ]
     },
     "execution_count": 37,
     "metadata": {},
     "output_type": "execute_result"
    }
   ],
   "source": [
    "y[1:-1]"
   ]
  },
  {
   "cell_type": "code",
   "execution_count": 38,
   "metadata": {},
   "outputs": [
    {
     "data": {
      "text/plain": [
       "2017"
      ]
     },
     "execution_count": 38,
     "metadata": {},
     "output_type": "execute_result"
    }
   ],
   "source": [
    "int(y[1:-1])"
   ]
  },
  {
   "cell_type": "markdown",
   "metadata": {},
   "source": [
    "# The Ratings"
   ]
  },
  {
   "cell_type": "code",
   "execution_count": 43,
   "metadata": {},
   "outputs": [
    {
     "data": {
      "text/html": [
       "<img src=\"https://www.dataquest.io/blog/content/images/imdb_rating.png\"/>"
      ],
      "text/plain": [
       "<IPython.core.display.Image object>"
      ]
     },
     "execution_count": 43,
     "metadata": {},
     "output_type": "execute_result"
    }
   ],
   "source": [
    "Image(url=\"https://www.dataquest.io/blog/content/images/imdb_rating.png\")"
   ]
  },
  {
   "cell_type": "code",
   "execution_count": 39,
   "metadata": {},
   "outputs": [
    {
     "data": {
      "text/plain": [
       "<div class=\"inline-block ratings-imdb-rating\" data-value=\"8.1\" name=\"ir\">\\n<span class=\"global-sprite rating-star imdb-rating\"></span>\\n<strong>8.1</strong>\\n</div>"
      ]
     },
     "execution_count": 39,
     "metadata": {},
     "output_type": "execute_result"
    }
   ],
   "source": [
    "rating1 = first.find('div', class_='inline-block ratings-imdb-rating')\n",
    "rating1"
   ]
  },
  {
   "cell_type": "code",
   "execution_count": 40,
   "metadata": {},
   "outputs": [
    {
     "data": {
      "text/plain": [
       "8.1"
      ]
     },
     "execution_count": 40,
     "metadata": {},
     "output_type": "execute_result"
    }
   ],
   "source": [
    "imdb_rating = float(rating1.strong.text)\n",
    "imdb_rating"
   ]
  },
  {
   "cell_type": "code",
   "execution_count": 44,
   "metadata": {},
   "outputs": [
    {
     "name": "stdout",
     "output_type": "stream",
     "text": [
      "77\n"
     ]
    }
   ],
   "source": [
    "rating2= first.find('span', class_='metascore favorable')\n",
    "metascore = int(rating2.text)\n",
    "print(metascore)"
   ]
  },
  {
   "cell_type": "markdown",
   "metadata": {},
   "source": [
    "# Number of Votes"
   ]
  },
  {
   "cell_type": "code",
   "execution_count": 45,
   "metadata": {},
   "outputs": [
    {
     "data": {
      "text/html": [
       "<img src=\"https://www.dataquest.io/blog/content/images/nr_votes.png\"/>"
      ],
      "text/plain": [
       "<IPython.core.display.Image object>"
      ]
     },
     "execution_count": 45,
     "metadata": {},
     "output_type": "execute_result"
    }
   ],
   "source": [
    "Image(url=\"https://www.dataquest.io/blog/content/images/nr_votes.png\")"
   ]
  },
  {
   "cell_type": "code",
   "execution_count": 57,
   "metadata": {},
   "outputs": [
    {
     "name": "stdout",
     "output_type": "stream",
     "text": [
      "<span data-value=\"439392\" name=\"nv\">439,392</span>\n",
      "439,392\n",
      "439392\n"
     ]
    }
   ],
   "source": [
    "nv = first.find('span', attrs = {'name': 'nv'})\n",
    "\n",
    "print(nv)\n",
    "print(nv.text)\n",
    "print(nv['data-value'])"
   ]
  },
  {
   "cell_type": "markdown",
   "metadata": {},
   "source": [
    "# The script for a single page"
   ]
  },
  {
   "cell_type": "code",
   "execution_count": 59,
   "metadata": {},
   "outputs": [
    {
     "data": {
      "text/html": [
       "<img src=\"https://www.dataquest.io/blog/content/images/no_mscores.jpg\"/>"
      ],
      "text/plain": [
       "<IPython.core.display.Image object>"
      ]
     },
     "execution_count": 59,
     "metadata": {},
     "output_type": "execute_result"
    }
   ],
   "source": [
    "Image(url=\"https://www.dataquest.io/blog/content/images/no_mscores.jpg\")"
   ]
  },
  {
   "cell_type": "markdown",
   "metadata": {},
   "source": [
    "We need to add a condition to skip movies without a Metascore. Using DevTools again, we see that the Metascore section is contained within a <div> tag. The class attribute has two values: inline-block and ratings-metascore. The distinctive one is clearly ratings-metascore."
   ]
  },
  {
   "cell_type": "code",
   "execution_count": 61,
   "metadata": {},
   "outputs": [
    {
     "data": {
      "text/html": [
       "<img src=\"https://www.dataquest.io/blog/content/images/metascore_yes.png\"/>"
      ],
      "text/plain": [
       "<IPython.core.display.Image object>"
      ]
     },
     "execution_count": 61,
     "metadata": {},
     "output_type": "execute_result"
    }
   ],
   "source": [
    "Image(url=\"https://www.dataquest.io/blog/content/images/metascore_yes.png\")"
   ]
  },
  {
   "cell_type": "code",
   "execution_count": 58,
   "metadata": {
    "collapsed": true
   },
   "outputs": [],
   "source": [
    "names = []\n",
    "years = []\n",
    "imdb_ratings = []\n",
    "metascores = []\n",
    "votes = []\n",
    "\n",
    "for container in movie_containers:\n",
    "\n",
    "    if container.find('div', class_ = 'ratings-metascore') is not None:\n",
    "\n",
    "        # The name\n",
    "        name = container.h3.a.text\n",
    "        names.append(name)\n",
    "\n",
    "        # The year\n",
    "        year = container.h3.find('span', class_ = 'lister-item-year').text\n",
    "        years.append(year)\n",
    "\n",
    "        # The IMDB rating\n",
    "        imdb = float(container.strong.text)\n",
    "        imdb_ratings.append(imdb)\n",
    "\n",
    "        # The Metascore\n",
    "        m_score = container.find('span', class_ = 'metascore').text\n",
    "        metascores.append(int(m_score))\n",
    "\n",
    "        # The number of votes\n",
    "        vote = container.find('span', attrs = {'name':'nv'})['data-value']\n",
    "        votes.append(int(vote))"
   ]
  },
  {
   "cell_type": "code",
   "execution_count": 50,
   "metadata": {
    "scrolled": true
   },
   "outputs": [
    {
     "data": {
      "text/plain": [
       "[8.1,\n",
       " 7.6,\n",
       " 7.7,\n",
       " 8.1,\n",
       " 7.5,\n",
       " 7.5,\n",
       " 7.7,\n",
       " 7.7,\n",
       " 7.5,\n",
       " 8.2,\n",
       " 7.5,\n",
       " 8.1,\n",
       " 7.3,\n",
       " 6.7,\n",
       " 6.5,\n",
       " 6.7,\n",
       " 7.0,\n",
       " 7.5,\n",
       " 6.7,\n",
       " 6.6,\n",
       " 6.9,\n",
       " 6.4,\n",
       " 6.8,\n",
       " 5.5,\n",
       " 7.0,\n",
       " 6.7,\n",
       " 6.5,\n",
       " 6.5,\n",
       " 7.3,\n",
       " 7.8,\n",
       " 6.8,\n",
       " 5.2,\n",
       " 5.6,\n",
       " 5.7,\n",
       " 7.2,\n",
       " 6.0,\n",
       " 7.3,\n",
       " 8.7,\n",
       " 6.4,\n",
       " 6.7,\n",
       " 7.7,\n",
       " 5.2,\n",
       " 6.3]"
      ]
     },
     "execution_count": 50,
     "metadata": {},
     "output_type": "execute_result"
    }
   ],
   "source": [
    "imdb_ratings"
   ]
  },
  {
   "cell_type": "code",
   "execution_count": 63,
   "metadata": {},
   "outputs": [
    {
     "name": "stdout",
     "output_type": "stream",
     "text": [
      "(u'Logan', u'(2017)', 8.1, 77, 439392)\n",
      "(u'Wonder Woman', u'(2017)', 7.6, 76, 364873)\n",
      "(u'Guardians of the Galaxy Vol. 2', u'(2017)', 7.7, 67, 330378)\n",
      "(u'Dunkirk', u'(2017)', 8.1, 94, 325399)\n",
      "(u'Star Wars: Episode VIII - The Last Jedi', u'(2017)', 7.5, 85, 298873)\n",
      "(u'Spider-Man: Homecoming', u'(2017)', 7.5, 73, 270500)\n",
      "(u'Baby Driver', u'(2017)', 7.7, 86, 254962)\n",
      "(u'Get Out', u'(I) (2017)', 7.7, 84, 236957)\n",
      "(u'It', u'(I) (2017)', 7.5, 69, 232708)\n",
      "(u'Blade Runner 2049', u'(2017)', 8.2, 81, 219216)\n",
      "(u'John Wick: Chapter 2', u'(2017)', 7.5, 75, 211116)\n",
      "(u'Thor: Ragnarok', u'(2017)', 8.1, 74, 201039)\n",
      "(u'Beauty and the Beast', u'(2017)', 7.3, 65, 194244)\n",
      "(u'Kong: Skull Island', u'(2017)', 6.7, 62, 188262)\n",
      "(u'Alien: Covenant', u'(2017)', 6.5, 65, 183236)\n",
      "(u'Pirates of the Caribbean: Dead Men Tell No Tales', u'(2017)', 6.7, 39, 175775)\n",
      "(u'Justice League', u'(2017)', 7.0, 45, 175607)\n",
      "(u'War for the Planet of the Apes', u'(2017)', 7.5, 82, 150765)\n",
      "(u'The Fate of the Furious', u'(2017)', 6.7, 56, 150510)\n",
      "(u'Life', u'(I) (2017)', 6.6, 54, 145185)\n",
      "(u'Kingsman: The Golden Circle', u'(2017)', 6.9, 44, 143895)\n",
      "(u'Ghost in the Shell', u'(2017)', 6.4, 52, 139730)\n",
      "(u'King Arthur: Legend of the Sword', u'(2017)', 6.8, 41, 134380)\n",
      "(u'The Mummy', u'(2017)', 5.5, 34, 119790)\n",
      "(u\"The Hitman's Bodyguard\", u'(2017)', 7.0, 47, 110077)\n",
      "(u'Atomic Blonde', u'(2017)', 6.7, 63, 101257)\n",
      "(u'Bright', u'(I) (2017)', 6.5, 29, 99541)\n",
      "(u'Valerian and the City of a Thousand Planets', u'(2017)', 6.5, 51, 96530)\n",
      "(u'The LEGO Batman Movie', u'(2017)', 7.3, 75, 92435)\n",
      "(u'Wind River', u'(2017)', 7.8, 73, 91931)\n",
      "(u'Mother!', u'(2017)', 6.8, 75, 91490)\n",
      "(u'Transformers: The Last Knight', u'(2017)', 5.2, 27, 88043)\n",
      "(u'Baywatch', u'(2017)', 5.6, 37, 87784)\n",
      "(u'The Dark Tower', u'(2017)', 5.7, 34, 77483)\n",
      "(u'American Made', u'(2017)', 7.2, 65, 76021)\n",
      "(u'Power Rangers', u'(2017)', 6.0, 44, 75068)\n",
      "(u'T2 Trainspotting', u'(2017)', 7.3, 67, 74771)\n",
      "(u'Coco', u'(I) (2017)', 8.7, 81, 69973)\n",
      "(u'The Boss Baby', u'(2017)', 6.4, 50, 68391)\n",
      "(u'Murder on the Orient Express', u'(2017)', 6.7, 52, 67556)\n",
      "(u'The Big Sick', u'(2017)', 7.7, 86, 65724)\n",
      "(u'xXx: Return of Xander Cage', u'(2017)', 5.2, 42, 65678)\n",
      "(u'Despicable Me 3', u'(2017)', 6.3, 49, 63690)\n"
     ]
    }
   ],
   "source": [
    "for i in range(len(names)):\n",
    "    print (names[i],years[i],imdb_ratings[i], metascores[i], votes[i])"
   ]
  },
  {
   "cell_type": "code",
   "execution_count": 64,
   "metadata": {
    "scrolled": false
   },
   "outputs": [
    {
     "name": "stdout",
     "output_type": "stream",
     "text": [
      "<class 'pandas.core.frame.DataFrame'>\n",
      "RangeIndex: 43 entries, 0 to 42\n",
      "Data columns (total 5 columns):\n",
      "imdb         43 non-null float64\n",
      "metascore    43 non-null int64\n",
      "movie        43 non-null object\n",
      "votes        43 non-null int64\n",
      "year         43 non-null object\n",
      "dtypes: float64(1), int64(2), object(2)\n",
      "memory usage: 1.8+ KB\n",
      "None\n"
     ]
    },
    {
     "data": {
      "text/html": [
       "<div>\n",
       "<style>\n",
       "    .dataframe thead tr:only-child th {\n",
       "        text-align: right;\n",
       "    }\n",
       "\n",
       "    .dataframe thead th {\n",
       "        text-align: left;\n",
       "    }\n",
       "\n",
       "    .dataframe tbody tr th {\n",
       "        vertical-align: top;\n",
       "    }\n",
       "</style>\n",
       "<table border=\"1\" class=\"dataframe\">\n",
       "  <thead>\n",
       "    <tr style=\"text-align: right;\">\n",
       "      <th></th>\n",
       "      <th>imdb</th>\n",
       "      <th>metascore</th>\n",
       "      <th>movie</th>\n",
       "      <th>votes</th>\n",
       "      <th>year</th>\n",
       "    </tr>\n",
       "  </thead>\n",
       "  <tbody>\n",
       "    <tr>\n",
       "      <th>0</th>\n",
       "      <td>8.1</td>\n",
       "      <td>77</td>\n",
       "      <td>Logan</td>\n",
       "      <td>439392</td>\n",
       "      <td>(2017)</td>\n",
       "    </tr>\n",
       "    <tr>\n",
       "      <th>1</th>\n",
       "      <td>7.6</td>\n",
       "      <td>76</td>\n",
       "      <td>Wonder Woman</td>\n",
       "      <td>364873</td>\n",
       "      <td>(2017)</td>\n",
       "    </tr>\n",
       "    <tr>\n",
       "      <th>2</th>\n",
       "      <td>7.7</td>\n",
       "      <td>67</td>\n",
       "      <td>Guardians of the Galaxy Vol. 2</td>\n",
       "      <td>330378</td>\n",
       "      <td>(2017)</td>\n",
       "    </tr>\n",
       "    <tr>\n",
       "      <th>3</th>\n",
       "      <td>8.1</td>\n",
       "      <td>94</td>\n",
       "      <td>Dunkirk</td>\n",
       "      <td>325399</td>\n",
       "      <td>(2017)</td>\n",
       "    </tr>\n",
       "    <tr>\n",
       "      <th>4</th>\n",
       "      <td>7.5</td>\n",
       "      <td>85</td>\n",
       "      <td>Star Wars: Episode VIII - The Last Jedi</td>\n",
       "      <td>298873</td>\n",
       "      <td>(2017)</td>\n",
       "    </tr>\n",
       "    <tr>\n",
       "      <th>5</th>\n",
       "      <td>7.5</td>\n",
       "      <td>73</td>\n",
       "      <td>Spider-Man: Homecoming</td>\n",
       "      <td>270500</td>\n",
       "      <td>(2017)</td>\n",
       "    </tr>\n",
       "    <tr>\n",
       "      <th>6</th>\n",
       "      <td>7.7</td>\n",
       "      <td>86</td>\n",
       "      <td>Baby Driver</td>\n",
       "      <td>254962</td>\n",
       "      <td>(2017)</td>\n",
       "    </tr>\n",
       "    <tr>\n",
       "      <th>7</th>\n",
       "      <td>7.7</td>\n",
       "      <td>84</td>\n",
       "      <td>Get Out</td>\n",
       "      <td>236957</td>\n",
       "      <td>(I) (2017)</td>\n",
       "    </tr>\n",
       "    <tr>\n",
       "      <th>8</th>\n",
       "      <td>7.5</td>\n",
       "      <td>69</td>\n",
       "      <td>It</td>\n",
       "      <td>232708</td>\n",
       "      <td>(I) (2017)</td>\n",
       "    </tr>\n",
       "    <tr>\n",
       "      <th>9</th>\n",
       "      <td>8.2</td>\n",
       "      <td>81</td>\n",
       "      <td>Blade Runner 2049</td>\n",
       "      <td>219216</td>\n",
       "      <td>(2017)</td>\n",
       "    </tr>\n",
       "    <tr>\n",
       "      <th>10</th>\n",
       "      <td>7.5</td>\n",
       "      <td>75</td>\n",
       "      <td>John Wick: Chapter 2</td>\n",
       "      <td>211116</td>\n",
       "      <td>(2017)</td>\n",
       "    </tr>\n",
       "    <tr>\n",
       "      <th>11</th>\n",
       "      <td>8.1</td>\n",
       "      <td>74</td>\n",
       "      <td>Thor: Ragnarok</td>\n",
       "      <td>201039</td>\n",
       "      <td>(2017)</td>\n",
       "    </tr>\n",
       "    <tr>\n",
       "      <th>12</th>\n",
       "      <td>7.3</td>\n",
       "      <td>65</td>\n",
       "      <td>Beauty and the Beast</td>\n",
       "      <td>194244</td>\n",
       "      <td>(2017)</td>\n",
       "    </tr>\n",
       "    <tr>\n",
       "      <th>13</th>\n",
       "      <td>6.7</td>\n",
       "      <td>62</td>\n",
       "      <td>Kong: Skull Island</td>\n",
       "      <td>188262</td>\n",
       "      <td>(2017)</td>\n",
       "    </tr>\n",
       "    <tr>\n",
       "      <th>14</th>\n",
       "      <td>6.5</td>\n",
       "      <td>65</td>\n",
       "      <td>Alien: Covenant</td>\n",
       "      <td>183236</td>\n",
       "      <td>(2017)</td>\n",
       "    </tr>\n",
       "    <tr>\n",
       "      <th>15</th>\n",
       "      <td>6.7</td>\n",
       "      <td>39</td>\n",
       "      <td>Pirates of the Caribbean: Dead Men Tell No Tales</td>\n",
       "      <td>175775</td>\n",
       "      <td>(2017)</td>\n",
       "    </tr>\n",
       "    <tr>\n",
       "      <th>16</th>\n",
       "      <td>7.0</td>\n",
       "      <td>45</td>\n",
       "      <td>Justice League</td>\n",
       "      <td>175607</td>\n",
       "      <td>(2017)</td>\n",
       "    </tr>\n",
       "    <tr>\n",
       "      <th>17</th>\n",
       "      <td>7.5</td>\n",
       "      <td>82</td>\n",
       "      <td>War for the Planet of the Apes</td>\n",
       "      <td>150765</td>\n",
       "      <td>(2017)</td>\n",
       "    </tr>\n",
       "    <tr>\n",
       "      <th>18</th>\n",
       "      <td>6.7</td>\n",
       "      <td>56</td>\n",
       "      <td>The Fate of the Furious</td>\n",
       "      <td>150510</td>\n",
       "      <td>(2017)</td>\n",
       "    </tr>\n",
       "    <tr>\n",
       "      <th>19</th>\n",
       "      <td>6.6</td>\n",
       "      <td>54</td>\n",
       "      <td>Life</td>\n",
       "      <td>145185</td>\n",
       "      <td>(I) (2017)</td>\n",
       "    </tr>\n",
       "    <tr>\n",
       "      <th>20</th>\n",
       "      <td>6.9</td>\n",
       "      <td>44</td>\n",
       "      <td>Kingsman: The Golden Circle</td>\n",
       "      <td>143895</td>\n",
       "      <td>(2017)</td>\n",
       "    </tr>\n",
       "    <tr>\n",
       "      <th>21</th>\n",
       "      <td>6.4</td>\n",
       "      <td>52</td>\n",
       "      <td>Ghost in the Shell</td>\n",
       "      <td>139730</td>\n",
       "      <td>(2017)</td>\n",
       "    </tr>\n",
       "    <tr>\n",
       "      <th>22</th>\n",
       "      <td>6.8</td>\n",
       "      <td>41</td>\n",
       "      <td>King Arthur: Legend of the Sword</td>\n",
       "      <td>134380</td>\n",
       "      <td>(2017)</td>\n",
       "    </tr>\n",
       "    <tr>\n",
       "      <th>23</th>\n",
       "      <td>5.5</td>\n",
       "      <td>34</td>\n",
       "      <td>The Mummy</td>\n",
       "      <td>119790</td>\n",
       "      <td>(2017)</td>\n",
       "    </tr>\n",
       "    <tr>\n",
       "      <th>24</th>\n",
       "      <td>7.0</td>\n",
       "      <td>47</td>\n",
       "      <td>The Hitman's Bodyguard</td>\n",
       "      <td>110077</td>\n",
       "      <td>(2017)</td>\n",
       "    </tr>\n",
       "    <tr>\n",
       "      <th>25</th>\n",
       "      <td>6.7</td>\n",
       "      <td>63</td>\n",
       "      <td>Atomic Blonde</td>\n",
       "      <td>101257</td>\n",
       "      <td>(2017)</td>\n",
       "    </tr>\n",
       "    <tr>\n",
       "      <th>26</th>\n",
       "      <td>6.5</td>\n",
       "      <td>29</td>\n",
       "      <td>Bright</td>\n",
       "      <td>99541</td>\n",
       "      <td>(I) (2017)</td>\n",
       "    </tr>\n",
       "    <tr>\n",
       "      <th>27</th>\n",
       "      <td>6.5</td>\n",
       "      <td>51</td>\n",
       "      <td>Valerian and the City of a Thousand Planets</td>\n",
       "      <td>96530</td>\n",
       "      <td>(2017)</td>\n",
       "    </tr>\n",
       "    <tr>\n",
       "      <th>28</th>\n",
       "      <td>7.3</td>\n",
       "      <td>75</td>\n",
       "      <td>The LEGO Batman Movie</td>\n",
       "      <td>92435</td>\n",
       "      <td>(2017)</td>\n",
       "    </tr>\n",
       "    <tr>\n",
       "      <th>29</th>\n",
       "      <td>7.8</td>\n",
       "      <td>73</td>\n",
       "      <td>Wind River</td>\n",
       "      <td>91931</td>\n",
       "      <td>(2017)</td>\n",
       "    </tr>\n",
       "    <tr>\n",
       "      <th>30</th>\n",
       "      <td>6.8</td>\n",
       "      <td>75</td>\n",
       "      <td>Mother!</td>\n",
       "      <td>91490</td>\n",
       "      <td>(2017)</td>\n",
       "    </tr>\n",
       "    <tr>\n",
       "      <th>31</th>\n",
       "      <td>5.2</td>\n",
       "      <td>27</td>\n",
       "      <td>Transformers: The Last Knight</td>\n",
       "      <td>88043</td>\n",
       "      <td>(2017)</td>\n",
       "    </tr>\n",
       "    <tr>\n",
       "      <th>32</th>\n",
       "      <td>5.6</td>\n",
       "      <td>37</td>\n",
       "      <td>Baywatch</td>\n",
       "      <td>87784</td>\n",
       "      <td>(2017)</td>\n",
       "    </tr>\n",
       "    <tr>\n",
       "      <th>33</th>\n",
       "      <td>5.7</td>\n",
       "      <td>34</td>\n",
       "      <td>The Dark Tower</td>\n",
       "      <td>77483</td>\n",
       "      <td>(2017)</td>\n",
       "    </tr>\n",
       "    <tr>\n",
       "      <th>34</th>\n",
       "      <td>7.2</td>\n",
       "      <td>65</td>\n",
       "      <td>American Made</td>\n",
       "      <td>76021</td>\n",
       "      <td>(2017)</td>\n",
       "    </tr>\n",
       "    <tr>\n",
       "      <th>35</th>\n",
       "      <td>6.0</td>\n",
       "      <td>44</td>\n",
       "      <td>Power Rangers</td>\n",
       "      <td>75068</td>\n",
       "      <td>(2017)</td>\n",
       "    </tr>\n",
       "    <tr>\n",
       "      <th>36</th>\n",
       "      <td>7.3</td>\n",
       "      <td>67</td>\n",
       "      <td>T2 Trainspotting</td>\n",
       "      <td>74771</td>\n",
       "      <td>(2017)</td>\n",
       "    </tr>\n",
       "    <tr>\n",
       "      <th>37</th>\n",
       "      <td>8.7</td>\n",
       "      <td>81</td>\n",
       "      <td>Coco</td>\n",
       "      <td>69973</td>\n",
       "      <td>(I) (2017)</td>\n",
       "    </tr>\n",
       "    <tr>\n",
       "      <th>38</th>\n",
       "      <td>6.4</td>\n",
       "      <td>50</td>\n",
       "      <td>The Boss Baby</td>\n",
       "      <td>68391</td>\n",
       "      <td>(2017)</td>\n",
       "    </tr>\n",
       "    <tr>\n",
       "      <th>39</th>\n",
       "      <td>6.7</td>\n",
       "      <td>52</td>\n",
       "      <td>Murder on the Orient Express</td>\n",
       "      <td>67556</td>\n",
       "      <td>(2017)</td>\n",
       "    </tr>\n",
       "    <tr>\n",
       "      <th>40</th>\n",
       "      <td>7.7</td>\n",
       "      <td>86</td>\n",
       "      <td>The Big Sick</td>\n",
       "      <td>65724</td>\n",
       "      <td>(2017)</td>\n",
       "    </tr>\n",
       "    <tr>\n",
       "      <th>41</th>\n",
       "      <td>5.2</td>\n",
       "      <td>42</td>\n",
       "      <td>xXx: Return of Xander Cage</td>\n",
       "      <td>65678</td>\n",
       "      <td>(2017)</td>\n",
       "    </tr>\n",
       "    <tr>\n",
       "      <th>42</th>\n",
       "      <td>6.3</td>\n",
       "      <td>49</td>\n",
       "      <td>Despicable Me 3</td>\n",
       "      <td>63690</td>\n",
       "      <td>(2017)</td>\n",
       "    </tr>\n",
       "  </tbody>\n",
       "</table>\n",
       "</div>"
      ],
      "text/plain": [
       "    imdb  metascore                                             movie   votes  \\\n",
       "0    8.1         77                                             Logan  439392   \n",
       "1    7.6         76                                      Wonder Woman  364873   \n",
       "2    7.7         67                    Guardians of the Galaxy Vol. 2  330378   \n",
       "3    8.1         94                                           Dunkirk  325399   \n",
       "4    7.5         85           Star Wars: Episode VIII - The Last Jedi  298873   \n",
       "5    7.5         73                            Spider-Man: Homecoming  270500   \n",
       "6    7.7         86                                       Baby Driver  254962   \n",
       "7    7.7         84                                           Get Out  236957   \n",
       "8    7.5         69                                                It  232708   \n",
       "9    8.2         81                                 Blade Runner 2049  219216   \n",
       "10   7.5         75                              John Wick: Chapter 2  211116   \n",
       "11   8.1         74                                    Thor: Ragnarok  201039   \n",
       "12   7.3         65                              Beauty and the Beast  194244   \n",
       "13   6.7         62                                Kong: Skull Island  188262   \n",
       "14   6.5         65                                   Alien: Covenant  183236   \n",
       "15   6.7         39  Pirates of the Caribbean: Dead Men Tell No Tales  175775   \n",
       "16   7.0         45                                    Justice League  175607   \n",
       "17   7.5         82                    War for the Planet of the Apes  150765   \n",
       "18   6.7         56                           The Fate of the Furious  150510   \n",
       "19   6.6         54                                              Life  145185   \n",
       "20   6.9         44                       Kingsman: The Golden Circle  143895   \n",
       "21   6.4         52                                Ghost in the Shell  139730   \n",
       "22   6.8         41                  King Arthur: Legend of the Sword  134380   \n",
       "23   5.5         34                                         The Mummy  119790   \n",
       "24   7.0         47                            The Hitman's Bodyguard  110077   \n",
       "25   6.7         63                                     Atomic Blonde  101257   \n",
       "26   6.5         29                                            Bright   99541   \n",
       "27   6.5         51       Valerian and the City of a Thousand Planets   96530   \n",
       "28   7.3         75                             The LEGO Batman Movie   92435   \n",
       "29   7.8         73                                        Wind River   91931   \n",
       "30   6.8         75                                           Mother!   91490   \n",
       "31   5.2         27                     Transformers: The Last Knight   88043   \n",
       "32   5.6         37                                          Baywatch   87784   \n",
       "33   5.7         34                                    The Dark Tower   77483   \n",
       "34   7.2         65                                     American Made   76021   \n",
       "35   6.0         44                                     Power Rangers   75068   \n",
       "36   7.3         67                                  T2 Trainspotting   74771   \n",
       "37   8.7         81                                              Coco   69973   \n",
       "38   6.4         50                                     The Boss Baby   68391   \n",
       "39   6.7         52                      Murder on the Orient Express   67556   \n",
       "40   7.7         86                                      The Big Sick   65724   \n",
       "41   5.2         42                        xXx: Return of Xander Cage   65678   \n",
       "42   6.3         49                                   Despicable Me 3   63690   \n",
       "\n",
       "          year  \n",
       "0       (2017)  \n",
       "1       (2017)  \n",
       "2       (2017)  \n",
       "3       (2017)  \n",
       "4       (2017)  \n",
       "5       (2017)  \n",
       "6       (2017)  \n",
       "7   (I) (2017)  \n",
       "8   (I) (2017)  \n",
       "9       (2017)  \n",
       "10      (2017)  \n",
       "11      (2017)  \n",
       "12      (2017)  \n",
       "13      (2017)  \n",
       "14      (2017)  \n",
       "15      (2017)  \n",
       "16      (2017)  \n",
       "17      (2017)  \n",
       "18      (2017)  \n",
       "19  (I) (2017)  \n",
       "20      (2017)  \n",
       "21      (2017)  \n",
       "22      (2017)  \n",
       "23      (2017)  \n",
       "24      (2017)  \n",
       "25      (2017)  \n",
       "26  (I) (2017)  \n",
       "27      (2017)  \n",
       "28      (2017)  \n",
       "29      (2017)  \n",
       "30      (2017)  \n",
       "31      (2017)  \n",
       "32      (2017)  \n",
       "33      (2017)  \n",
       "34      (2017)  \n",
       "35      (2017)  \n",
       "36      (2017)  \n",
       "37  (I) (2017)  \n",
       "38      (2017)  \n",
       "39      (2017)  \n",
       "40      (2017)  \n",
       "41      (2017)  \n",
       "42      (2017)  "
      ]
     },
     "execution_count": 64,
     "metadata": {},
     "output_type": "execute_result"
    }
   ],
   "source": [
    "import pandas as pd\n",
    "\n",
    "test_df = pd.DataFrame({'movie': names,\n",
    "                       'year': years,\n",
    "                       'imdb': imdb_ratings,\n",
    "                       'metascore': metascores,\n",
    "                       'votes': votes})\n",
    "print(test_df.info())\n",
    "test_df"
   ]
  },
  {
   "cell_type": "code",
   "execution_count": 65,
   "metadata": {
    "collapsed": true
   },
   "outputs": [],
   "source": [
    "myurl = 'http://www.imdb.com/search/title?release_date=2017-01-01,2018-01-01&sort=num_votes,desc&page=2&ref_=adv_nxt'"
   ]
  },
  {
   "cell_type": "code",
   "execution_count": 66,
   "metadata": {},
   "outputs": [
    {
     "data": {
      "text/plain": [
       "'http://www.imdb.com/search/title?release_date=2017-01-01,2018-01-01&sort=num_votes,desc&page=2&ref_=adv_nxt'"
      ]
     },
     "execution_count": 66,
     "metadata": {},
     "output_type": "execute_result"
    }
   ],
   "source": [
    "myurl"
   ]
  },
  {
   "cell_type": "code",
   "execution_count": 67,
   "metadata": {
    "collapsed": true
   },
   "outputs": [],
   "source": [
    "s = myurl.split('page=')"
   ]
  },
  {
   "cell_type": "code",
   "execution_count": 68,
   "metadata": {},
   "outputs": [
    {
     "data": {
      "text/plain": [
       "['http://www.imdb.com/search/title?release_date=2017-01-01,2018-01-01&sort=num_votes,desc&',\n",
       " '2&ref_=adv_nxt']"
      ]
     },
     "execution_count": 68,
     "metadata": {},
     "output_type": "execute_result"
    }
   ],
   "source": [
    "s"
   ]
  },
  {
   "cell_type": "code",
   "execution_count": 69,
   "metadata": {},
   "outputs": [
    {
     "data": {
      "text/plain": [
       "'http://www.imdb.com/search/title?release_date=2017-01-01,2018-01-01&sort=num_votes,desc&'"
      ]
     },
     "execution_count": 69,
     "metadata": {},
     "output_type": "execute_result"
    }
   ],
   "source": [
    "s[0]"
   ]
  },
  {
   "cell_type": "code",
   "execution_count": 70,
   "metadata": {},
   "outputs": [
    {
     "data": {
      "text/plain": [
       "'2&ref_=adv_nxt'"
      ]
     },
     "execution_count": 70,
     "metadata": {},
     "output_type": "execute_result"
    }
   ],
   "source": [
    "s[1]"
   ]
  },
  {
   "cell_type": "code",
   "execution_count": 71,
   "metadata": {
    "collapsed": true
   },
   "outputs": [],
   "source": [
    "ss = s[1][1:]"
   ]
  },
  {
   "cell_type": "code",
   "execution_count": null,
   "metadata": {
    "collapsed": true
   },
   "outputs": [],
   "source": []
  }
 ],
 "metadata": {
  "kernelspec": {
   "display_name": "Python 2",
   "language": "python",
   "name": "python2"
  },
  "language_info": {
   "codemirror_mode": {
    "name": "ipython",
    "version": 2
   },
   "file_extension": ".py",
   "mimetype": "text/x-python",
   "name": "python",
   "nbconvert_exporter": "python",
   "pygments_lexer": "ipython2",
   "version": "2.7.13"
  }
 },
 "nbformat": 4,
 "nbformat_minor": 2
}

  </body>
</html>
